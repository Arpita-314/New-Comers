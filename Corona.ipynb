{
 "cells": [
  {
   "cell_type": "markdown",
   "metadata": {},
   "source": [
    "PROJECT\n",
    "\n",
    "COVID-19 STATISTICS IN INDIA\n",
    "\n",
    "The statistics shows the effect of pandemic in India in the form of number of cases confirmed, active and recovered along with the number of death cases caused by it. \n",
    "It shows the varying demographic in the states ranging from the most affected state to the least affected state. The states with no effect are excluded from the data set\n",
    "\n",
    "Procedure followed to do the project is in the given steps\n",
    "\n",
    "  1: Data collecting from kaggle\n",
    "\n",
    "  2: Data analysis\n",
    "\n",
    "  3: Data visualisation\n",
    "\n",
    "Description:\n",
    "\n",
    "1: Data collecting from kaggle \n",
    "\n",
    "Kaggle is the world's largest data science community with powerful tools and resources to help you achieve your data science goals.\n",
    "\n",
    "2: Data analysis\n",
    "\n",
    "The initial docx file is first converted into .csv file which is required to read the data. The data is read, encoded and arranged along with addition of heading\n",
    "the libraries that are used here are pandas which can be found by running the following codes in jupyter notebook\n",
    "!pip install pandas\n",
    "and imported as\n",
    "import pandas as pd\n",
    "\n",
    "The dataset is then checked for missing values using,\n",
    "df.isnull().sum()\n",
    "this will give the number of missing or NaN values present in the given rows or columns.\n"
   ]
  },
  {
   "cell_type": "markdown",
   "metadata": {},
   "source": [
    "These are some code lines explaining above written statements"
   ]
  },
  {
   "cell_type": "code",
   "execution_count": 59,
   "metadata": {},
   "outputs": [],
   "source": [
    "import pandas as pd\n",
    "import numpy as np\n",
    "import matplotlib.pyplot as plt"
   ]
  },
  {
   "cell_type": "code",
   "execution_count": 60,
   "metadata": {},
   "outputs": [
    {
     "data": {
      "text/html": [
       "<div>\n",
       "<style scoped>\n",
       "    .dataframe tbody tr th:only-of-type {\n",
       "        vertical-align: middle;\n",
       "    }\n",
       "\n",
       "    .dataframe tbody tr th {\n",
       "        vertical-align: top;\n",
       "    }\n",
       "\n",
       "    .dataframe thead th {\n",
       "        text-align: right;\n",
       "    }\n",
       "</style>\n",
       "<table border=\"1\" class=\"dataframe\">\n",
       "  <thead>\n",
       "    <tr style=\"text-align: right;\">\n",
       "      <th></th>\n",
       "      <th>STATES</th>\n",
       "      <th>CONFIRMED</th>\n",
       "      <th>RECOVERED</th>\n",
       "      <th>DECEASED</th>\n",
       "    </tr>\n",
       "  </thead>\n",
       "  <tbody>\n",
       "    <tr>\n",
       "      <th>0</th>\n",
       "      <td>Maharashtra</td>\n",
       "      <td>12,974</td>\n",
       "      <td>2,115</td>\n",
       "      <td>548</td>\n",
       "    </tr>\n",
       "    <tr>\n",
       "      <th>1</th>\n",
       "      <td>Gujrat</td>\n",
       "      <td>5,428</td>\n",
       "      <td>1,042</td>\n",
       "      <td>290</td>\n",
       "    </tr>\n",
       "    <tr>\n",
       "      <th>2</th>\n",
       "      <td>Delhi</td>\n",
       "      <td>4,549</td>\n",
       "      <td>1,362</td>\n",
       "      <td>64</td>\n",
       "    </tr>\n",
       "    <tr>\n",
       "      <th>3</th>\n",
       "      <td>Tamil Nadu</td>\n",
       "      <td>3,023</td>\n",
       "      <td>1,379</td>\n",
       "      <td>30</td>\n",
       "    </tr>\n",
       "    <tr>\n",
       "      <th>4</th>\n",
       "      <td>Rajasthan</td>\n",
       "      <td>2,886</td>\n",
       "      <td>1,356</td>\n",
       "      <td>71</td>\n",
       "    </tr>\n",
       "  </tbody>\n",
       "</table>\n",
       "</div>"
      ],
      "text/plain": [
       "        STATES CONFIRMED RECOVERED  DECEASED\n",
       "0  Maharashtra    12,974     2,115       548\n",
       "1       Gujrat     5,428     1,042       290\n",
       "2        Delhi     4,549     1,362        64\n",
       "3   Tamil Nadu     3,023     1,379        30\n",
       "4    Rajasthan     2,886     1,356        71"
      ]
     },
     "execution_count": 60,
     "metadata": {},
     "output_type": "execute_result"
    }
   ],
   "source": [
    "df = pd.read_csv('C:\\corona3.csv',encoding='utf8')\n",
    "df.columns = df.columns.str.upper()\n",
    "df.head()"
   ]
  },
  {
   "cell_type": "code",
   "execution_count": 61,
   "metadata": {},
   "outputs": [
    {
     "data": {
      "text/plain": [
       "STATES       0\n",
       "CONFIRMED    0\n",
       "RECOVERED    0\n",
       "DECEASED     0\n",
       "dtype: int64"
      ]
     },
     "execution_count": 61,
     "metadata": {},
     "output_type": "execute_result"
    }
   ],
   "source": [
    "df.isnull().sum()\n",
    "# There is no missing data"
   ]
  },
  {
   "cell_type": "markdown",
   "metadata": {},
   "source": [
    "3: Data visualization\n",
    "\n",
    "Jupyter Notebooks are a great and fairly simple way to explore data and create visualizations in an interactive environment and are an essential tool for data science. \n",
    "Here the data visualization is Done in the form of piechart that shows the number of active, recovered and deceased cases among the total population. \n",
    "The library that is used here is\n",
    "\n",
    "Matplotlib \n",
    "    \n",
    "    can be found in jupyter notebook by running the following codes \n",
    "    !pip install matplotlib\n",
    "    and imported as\n",
    "    import matplotlib.pyplot as plt\n"
   ]
  },
  {
   "cell_type": "markdown",
   "metadata": {},
   "source": [
    "Take a look at this Piechart , it provide Data analysts to extract data easily"
   ]
  },
  {
   "cell_type": "code",
   "execution_count": 63,
   "metadata": {
    "scrolled": true
   },
   "outputs": [
    {
     "data": {
      "image/png": "[encoded data removed]",
      "text/plain": [
       "<Figure size 432x288 with 1 Axes>"
      ]
     },
     "metadata": {},
     "output_type": "display_data"
    }
   ],
   "source": [
    "cases='Recovered','Active','Decreased'\n",
    "perc=[27.49,69.28,3.21]\n",
    "explode=(0,0.1,0)\n",
    "plt.pie(perc,explode=explode,labels=cases,autopct='%1.2f%%',shadow=True)\n",
    "plt.axis('equal')\n",
    "plt.show()"
   ]
  },
  {
   "cell_type": "markdown",
   "metadata": {},
   "source": [
    "CREDITS\n",
    "\n",
    "The Project is done by the team Void of the following group members :\n",
    "\n",
    "1.Swati Khandual\n",
    "\n",
    "2.Krishna Kumar Singh Garia\n",
    "\n",
    "3.Shashank Shekhar\n"
   ]
  }
 ],
 "metadata": {
  "kernelspec": {
   "display_name": "Python 3",
   "language": "python",
   "name": "python3"
  },
  "language_info": {
   "codemirror_mode": {
    "name": "ipython",
    "version": 3
   },
   "file_extension": ".py",
   "mimetype": "text/x-python",
   "name": "python",
   "nbconvert_exporter": "python",
   "pygments_lexer": "ipython3",
   "version": "3.8.2"
  }
 },
 "nbformat": 4,
 "nbformat_minor": 4
}
