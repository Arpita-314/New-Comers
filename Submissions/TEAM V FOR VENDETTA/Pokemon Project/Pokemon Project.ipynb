{
 "cells": [
  {
   "cell_type": "markdown",
   "metadata": {},
   "source": [
    "#                                            Pokemon Project"
   ]
  },
  {
   "cell_type": "markdown",
   "metadata": {},
   "source": [
    "#### Nowadays in the hustle of life, all of us miss our carefree childhood days when life was not so dynamic and stressful. Nostalgia holds a very special place in all of our hearts as everyone wants to revert back time and live those days just one more time.\n",
    "\n",
    "#### So, as an attempt to bring our childhood back we bring this project which deals with an integral part of our childhood that is Pokemon. We have tried to analyse the different pokemons with our data analysis skills and later on make a machine learning model which will create a Pokemon dream team."
   ]
  },
  {
   "cell_type": "markdown",
   "metadata": {},
   "source": [
    "#### This dataset contains information on all 802 Pokemon from all Seven Generations of Pokemon. The information contained in this dataset include Base Stats, Performance against Other Types, Height, Weight, Classification, Egg Steps, Experience Points, Abilities, etc. The information was scraped from http://serebii.net/"
   ]
  },
  {
   "cell_type": "markdown",
   "metadata": {},
   "source": [
    "### Content\n",
    "#### name: The English name of the Pokemon\n",
    "#### japanese_name: The Original Japanese name of the Pokemon\n",
    "#### pokedex_number: The entry number of the Pokemon in the National Pokedex\n",
    "#### percentage_male: The percentage of the species that are male. Blank if the Pokemon is genderless.\n",
    "#### type1: The Primary Type of the Pokemon\n",
    "#### type2: The Secondary Type of the Pokemon\n",
    "#### classification: The Classification of the Pokemon as described by the Sun and Moon Pokedex\n",
    "#### height_m: Height of the Pokemon in metres\n",
    "#### weight_kg: The Weight of the Pokemon in kilograms\n",
    "#### capture_rate: Capture Rate of the Pokemon\n",
    "#### baseeggsteps: The number of steps required to hatch an egg of the Pokemon\n",
    "#### abilities: A stringified list of abilities that the Pokemon is capable of having\n",
    "#### experience_growth: The Experience Growth of the Pokemon\n",
    "#### base_happiness: Base Happiness of the Pokemon\n",
    "#### against_?: Eighteen features that denote the amount of damage taken against an attack of a particular type\n",
    "#### hp: The Base HP of the Pokemon\n",
    "#### attack: The Base Attack of the Pokemon\n",
    "#### defense: The Base Defense of the Pokemon\n",
    "#### sp_attack: The Base Special Attack of the Pokemon\n",
    "#### sp_defense: The Base Special Defense of the Pokemon\n",
    "#### speed: The Base Speed of the Pokemon\n",
    "#### generation: The numbered generation which the Pokemon was first introduced\n",
    "#### is_legendary: Denotes if the Pokemon is legendary."
   ]
  },
  {
   "cell_type": "code",
   "execution_count": 1,
   "metadata": {},
   "outputs": [],
   "source": [
    "#importing the necessary libraries for data analysis and visualization\n",
    "import pandas as pd\n",
    "import numpy as np \n",
    "import matplotlib.pyplot as plt\n",
    "import seaborn as sns\n",
    "%matplotlib inline"
   ]
  },
  {
   "cell_type": "code",
   "execution_count": 3,
   "metadata": {},
   "outputs": [],
   "source": [
    "#storing the data in the poke_df dataframe \n",
    "poke_df= pd.read_csv('C:/Users/Shivam Shandilya/Desktop/pokemon/pokemon.csv')"
   ]
  },
  {
   "cell_type": "code",
   "execution_count": 4,
   "metadata": {},
   "outputs": [
    {
     "name": "stdout",
     "output_type": "stream",
     "text": [
      "<class 'pandas.core.frame.DataFrame'>\n",
      "RangeIndex: 801 entries, 0 to 800\n",
      "Data columns (total 41 columns):\n",
      " #   Column             Non-Null Count  Dtype  \n",
      "---  ------             --------------  -----  \n",
      " 0   abilities          801 non-null    object \n",
      " 1   against_bug        801 non-null    float64\n",
      " 2   against_dark       801 non-null    float64\n",
      " 3   against_dragon     801 non-null    float64\n",
      " 4   against_electric   801 non-null    float64\n",
      " 5   against_fairy      801 non-null    float64\n",
      " 6   against_fight      801 non-null    float64\n",
      " 7   against_fire       801 non-null    float64\n",
      " 8   against_flying     801 non-null    float64\n",
      " 9   against_ghost      801 non-null    float64\n",
      " 10  against_grass      801 non-null    float64\n",
      " 11  against_ground     801 non-null    float64\n",
      " 12  against_ice        801 non-null    float64\n",
      " 13  against_normal     801 non-null    float64\n",
      " 14  against_poison     801 non-null    float64\n",
      " 15  against_psychic    801 non-null    float64\n",
      " 16  against_rock       801 non-null    float64\n",
      " 17  against_steel      801 non-null    float64\n",
      " 18  against_water      801 non-null    float64\n",
      " 19  attack             801 non-null    int64  \n",
      " 20  base_egg_steps     801 non-null    int64  \n",
      " 21  base_happiness     801 non-null    int64  \n",
      " 22  base_total         801 non-null    int64  \n",
      " 23  capture_rate       801 non-null    object \n",
      " 24  classfication      801 non-null    object \n",
      " 25  defense            801 non-null    int64  \n",
      " 26  experience_growth  801 non-null    int64  \n",
      " 27  height_m           781 non-null    float64\n",
      " 28  hp                 801 non-null    int64  \n",
      " 29  japanese_name      801 non-null    object \n",
      " 30  name               801 non-null    object \n",
      " 31  percentage_male    703 non-null    float64\n",
      " 32  pokedex_number     801 non-null    int64  \n",
      " 33  sp_attack          801 non-null    int64  \n",
      " 34  sp_defense         801 non-null    int64  \n",
      " 35  speed              801 non-null    int64  \n",
      " 36  type1              801 non-null    object \n",
      " 37  type2              417 non-null    object \n",
      " 38  weight_kg          781 non-null    float64\n",
      " 39  generation         801 non-null    int64  \n",
      " 40  is_legendary       801 non-null    int64  \n",
      "dtypes: float64(21), int64(13), object(7)\n",
      "memory usage: 256.7+ KB\n"
     ]
    }
   ],
   "source": [
    "poke_df.info()"
   ]
  },
  {
   "cell_type": "code",
   "execution_count": 5,
   "metadata": {},
   "outputs": [
    {
     "data": {
      "text/html": [
       "<div>\n",
       "<style scoped>\n",
       "    .dataframe tbody tr th:only-of-type {\n",
       "        vertical-align: middle;\n",
       "    }\n",
       "\n",
       "    .dataframe tbody tr th {\n",
       "        vertical-align: top;\n",
       "    }\n",
       "\n",
       "    .dataframe thead th {\n",
       "        text-align: right;\n",
       "    }\n",
       "</style>\n",
       "<table border=\"1\" class=\"dataframe\">\n",
       "  <thead>\n",
       "    <tr style=\"text-align: right;\">\n",
       "      <th></th>\n",
       "      <th>attack</th>\n",
       "      <th>base_egg_steps</th>\n",
       "      <th>base_happiness</th>\n",
       "      <th>base_total</th>\n",
       "      <th>capture_rate</th>\n",
       "      <th>classfication</th>\n",
       "      <th>defense</th>\n",
       "      <th>experience_growth</th>\n",
       "      <th>height_m</th>\n",
       "      <th>hp</th>\n",
       "      <th>...</th>\n",
       "      <th>percentage_male</th>\n",
       "      <th>pokedex_number</th>\n",
       "      <th>sp_attack</th>\n",
       "      <th>sp_defense</th>\n",
       "      <th>speed</th>\n",
       "      <th>type1</th>\n",
       "      <th>type2</th>\n",
       "      <th>weight_kg</th>\n",
       "      <th>generation</th>\n",
       "      <th>is_legendary</th>\n",
       "    </tr>\n",
       "  </thead>\n",
       "  <tbody>\n",
       "    <tr>\n",
       "      <th>0</th>\n",
       "      <td>49</td>\n",
       "      <td>5120</td>\n",
       "      <td>70</td>\n",
       "      <td>318</td>\n",
       "      <td>45</td>\n",
       "      <td>Seed Pokémon</td>\n",
       "      <td>49</td>\n",
       "      <td>1059860</td>\n",
       "      <td>0.7</td>\n",
       "      <td>45</td>\n",
       "      <td>...</td>\n",
       "      <td>88.1</td>\n",
       "      <td>1</td>\n",
       "      <td>65</td>\n",
       "      <td>65</td>\n",
       "      <td>45</td>\n",
       "      <td>grass</td>\n",
       "      <td>poison</td>\n",
       "      <td>6.9</td>\n",
       "      <td>1</td>\n",
       "      <td>0</td>\n",
       "    </tr>\n",
       "    <tr>\n",
       "      <th>1</th>\n",
       "      <td>62</td>\n",
       "      <td>5120</td>\n",
       "      <td>70</td>\n",
       "      <td>405</td>\n",
       "      <td>45</td>\n",
       "      <td>Seed Pokémon</td>\n",
       "      <td>63</td>\n",
       "      <td>1059860</td>\n",
       "      <td>1.0</td>\n",
       "      <td>60</td>\n",
       "      <td>...</td>\n",
       "      <td>88.1</td>\n",
       "      <td>2</td>\n",
       "      <td>80</td>\n",
       "      <td>80</td>\n",
       "      <td>60</td>\n",
       "      <td>grass</td>\n",
       "      <td>poison</td>\n",
       "      <td>13.0</td>\n",
       "      <td>1</td>\n",
       "      <td>0</td>\n",
       "    </tr>\n",
       "    <tr>\n",
       "      <th>2</th>\n",
       "      <td>100</td>\n",
       "      <td>5120</td>\n",
       "      <td>70</td>\n",
       "      <td>625</td>\n",
       "      <td>45</td>\n",
       "      <td>Seed Pokémon</td>\n",
       "      <td>123</td>\n",
       "      <td>1059860</td>\n",
       "      <td>2.0</td>\n",
       "      <td>80</td>\n",
       "      <td>...</td>\n",
       "      <td>88.1</td>\n",
       "      <td>3</td>\n",
       "      <td>122</td>\n",
       "      <td>120</td>\n",
       "      <td>80</td>\n",
       "      <td>grass</td>\n",
       "      <td>poison</td>\n",
       "      <td>100.0</td>\n",
       "      <td>1</td>\n",
       "      <td>0</td>\n",
       "    </tr>\n",
       "    <tr>\n",
       "      <th>3</th>\n",
       "      <td>52</td>\n",
       "      <td>5120</td>\n",
       "      <td>70</td>\n",
       "      <td>309</td>\n",
       "      <td>45</td>\n",
       "      <td>Lizard Pokémon</td>\n",
       "      <td>43</td>\n",
       "      <td>1059860</td>\n",
       "      <td>0.6</td>\n",
       "      <td>39</td>\n",
       "      <td>...</td>\n",
       "      <td>88.1</td>\n",
       "      <td>4</td>\n",
       "      <td>60</td>\n",
       "      <td>50</td>\n",
       "      <td>65</td>\n",
       "      <td>fire</td>\n",
       "      <td>NaN</td>\n",
       "      <td>8.5</td>\n",
       "      <td>1</td>\n",
       "      <td>0</td>\n",
       "    </tr>\n",
       "    <tr>\n",
       "      <th>4</th>\n",
       "      <td>64</td>\n",
       "      <td>5120</td>\n",
       "      <td>70</td>\n",
       "      <td>405</td>\n",
       "      <td>45</td>\n",
       "      <td>Flame Pokémon</td>\n",
       "      <td>58</td>\n",
       "      <td>1059860</td>\n",
       "      <td>1.1</td>\n",
       "      <td>58</td>\n",
       "      <td>...</td>\n",
       "      <td>88.1</td>\n",
       "      <td>5</td>\n",
       "      <td>80</td>\n",
       "      <td>65</td>\n",
       "      <td>80</td>\n",
       "      <td>fire</td>\n",
       "      <td>NaN</td>\n",
       "      <td>19.0</td>\n",
       "      <td>1</td>\n",
       "      <td>0</td>\n",
       "    </tr>\n",
       "  </tbody>\n",
       "</table>\n",
       "<p>5 rows × 22 columns</p>\n",
       "</div>"
      ],
      "text/plain": [
       "   attack  base_egg_steps  base_happiness  base_total capture_rate  \\\n",
       "0      49            5120              70         318           45   \n",
       "1      62            5120              70         405           45   \n",
       "2     100            5120              70         625           45   \n",
       "3      52            5120              70         309           45   \n",
       "4      64            5120              70         405           45   \n",
       "\n",
       "    classfication  defense  experience_growth  height_m  hp  ...  \\\n",
       "0    Seed Pokémon       49            1059860       0.7  45  ...   \n",
       "1    Seed Pokémon       63            1059860       1.0  60  ...   \n",
       "2    Seed Pokémon      123            1059860       2.0  80  ...   \n",
       "3  Lizard Pokémon       43            1059860       0.6  39  ...   \n",
       "4   Flame Pokémon       58            1059860       1.1  58  ...   \n",
       "\n",
       "  percentage_male pokedex_number  sp_attack  sp_defense  speed  type1   type2  \\\n",
       "0            88.1              1         65          65     45  grass  poison   \n",
       "1            88.1              2         80          80     60  grass  poison   \n",
       "2            88.1              3        122         120     80  grass  poison   \n",
       "3            88.1              4         60          50     65   fire     NaN   \n",
       "4            88.1              5         80          65     80   fire     NaN   \n",
       "\n",
       "  weight_kg generation  is_legendary  \n",
       "0       6.9          1             0  \n",
       "1      13.0          1             0  \n",
       "2     100.0          1             0  \n",
       "3       8.5          1             0  \n",
       "4      19.0          1             0  \n",
       "\n",
       "[5 rows x 22 columns]"
      ]
     },
     "execution_count": 5,
     "metadata": {},
     "output_type": "execute_result"
    }
   ],
   "source": [
    "poke_df.iloc[:,19:].head()"
   ]
  },
  {
   "cell_type": "markdown",
   "metadata": {},
   "source": [
    "### Data Cleaning"
   ]
  },
  {
   "cell_type": "code",
   "execution_count": 6,
   "metadata": {},
   "outputs": [
    {
     "data": {
      "text/plain": [
       "abilities              0\n",
       "against_bug            0\n",
       "against_dark           0\n",
       "against_dragon         0\n",
       "against_electric       0\n",
       "against_fairy          0\n",
       "against_fight          0\n",
       "against_fire           0\n",
       "against_flying         0\n",
       "against_ghost          0\n",
       "against_grass          0\n",
       "against_ground         0\n",
       "against_ice            0\n",
       "against_normal         0\n",
       "against_poison         0\n",
       "against_psychic        0\n",
       "against_rock           0\n",
       "against_steel          0\n",
       "against_water          0\n",
       "attack                 0\n",
       "base_egg_steps         0\n",
       "base_happiness         0\n",
       "base_total             0\n",
       "capture_rate           0\n",
       "classfication          0\n",
       "defense                0\n",
       "experience_growth      0\n",
       "height_m              20\n",
       "hp                     0\n",
       "japanese_name          0\n",
       "name                   0\n",
       "percentage_male       98\n",
       "pokedex_number         0\n",
       "sp_attack              0\n",
       "sp_defense             0\n",
       "speed                  0\n",
       "type1                  0\n",
       "type2                384\n",
       "weight_kg             20\n",
       "generation             0\n",
       "is_legendary           0\n",
       "dtype: int64"
      ]
     },
     "execution_count": 6,
     "metadata": {},
     "output_type": "execute_result"
    }
   ],
   "source": [
    "#Finding Out the number of missing/null values\n",
    "poke_df.isnull().sum()"
   ]
  },
  {
   "cell_type": "code",
   "execution_count": 7,
   "metadata": {},
   "outputs": [
    {
     "data": {
      "text/plain": [
       "<matplotlib.axes._subplots.AxesSubplot at 0x293d2d2f408>"
      ]
     },
     "execution_count": 7,
     "metadata": {},
     "output_type": "execute_result"
    },
    {
     "data": {
      "image/png": "[encoded data removed]",
      "text/plain": [
       "<Figure size 864x720 with 2 Axes>"
      ]
     },
     "metadata": {
      "needs_background": "light"
     },
     "output_type": "display_data"
    }
   ],
   "source": [
    "fig=plt.figure(figsize=(12,10))\n",
    "sns.heatmap(poke_df.isnull(),yticklabels=False,cmap='viridis')"
   ]
  },
  {
   "cell_type": "markdown",
   "metadata": {},
   "source": [
    "### Filling the missing height values"
   ]
  },
  {
   "cell_type": "code",
   "execution_count": 8,
   "metadata": {},
   "outputs": [
    {
     "data": {
      "text/plain": [
       "array(['grass', 'fire', 'water', 'bug', 'normal', 'poison', 'electric',\n",
       "       'ground', 'fairy', 'fighting', 'psychic', 'rock', 'ghost', 'ice',\n",
       "       'dragon', 'dark', 'steel', 'flying'], dtype=object)"
      ]
     },
     "execution_count": 8,
     "metadata": {},
     "output_type": "execute_result"
    }
   ],
   "source": [
    "#First off, we will find the different primary types of pokemon and group them according to it\n",
    "poke_df['type1'].unique()"
   ]
  },
  {
   "cell_type": "code",
   "execution_count": 9,
   "metadata": {},
   "outputs": [
    {
     "data": {
      "text/plain": [
       "type1\n",
       "bug         0.883333\n",
       "dark        1.296552\n",
       "dragon      1.937037\n",
       "electric    0.981579\n",
       "fairy       0.794444\n",
       "fighting    1.196429\n",
       "fire        1.168000\n",
       "flying      1.166667\n",
       "ghost       1.251852\n",
       "grass       0.938961\n",
       "ground      1.340741\n",
       "ice         1.208696\n",
       "normal      1.024752\n",
       "poison      1.160000\n",
       "psychic     1.063462\n",
       "rock        1.304878\n",
       "steel       1.875000\n",
       "water       1.283333\n",
       "Name: height_m, dtype: float64"
      ]
     },
     "execution_count": 9,
     "metadata": {},
     "output_type": "execute_result"
    }
   ],
   "source": [
    "#Finding out the average height of a Pokemon according to its type\n",
    "mean_height= poke_df.groupby('type1')['height_m'].mean()\n",
    "mean_height"
   ]
  },
  {
   "cell_type": "code",
   "execution_count": 10,
   "metadata": {},
   "outputs": [
    {
     "data": {
      "text/plain": [
       "0.8833333333333332"
      ]
     },
     "execution_count": 10,
     "metadata": {},
     "output_type": "execute_result"
    }
   ],
   "source": [
    "#Finding the mean height of a bug type Pokemon\n",
    "mean_height['bug']"
   ]
  },
  {
   "cell_type": "code",
   "execution_count": 11,
   "metadata": {},
   "outputs": [],
   "source": [
    "def avg_height (type, height):\n",
    "    if np.isnan(height):\n",
    "        return mean_height[type]\n",
    "    else:\n",
    "        return height"
   ]
  },
  {
   "cell_type": "code",
   "execution_count": 12,
   "metadata": {},
   "outputs": [],
   "source": [
    "#Now we will fill in the missing height values with the average height of the type of the pokemon it is with the help of avg_height function\n",
    "poke_df['height_m'] = poke_df.apply(lambda x: avg_height(x.type1, x.height_m), axis=1)"
   ]
  },
  {
   "cell_type": "code",
   "execution_count": 13,
   "metadata": {},
   "outputs": [
    {
     "data": {
      "text/plain": [
       "0"
      ]
     },
     "execution_count": 13,
     "metadata": {},
     "output_type": "execute_result"
    }
   ],
   "source": [
    "#Checking the presence of null values in height_m column\n",
    "poke_df.isnull().sum()['height_m']"
   ]
  },
  {
   "cell_type": "markdown",
   "metadata": {},
   "source": [
    "### Filling the missing percentage_male values"
   ]
  },
  {
   "cell_type": "code",
   "execution_count": 14,
   "metadata": {},
   "outputs": [],
   "source": [
    "#Since the genderless pokemons have blank percentage_male values, we will substitute those none values with 0\n",
    "poke_df['percentage_male']= poke_df['percentage_male'].apply(lambda x: 0 if np.isnan(x) else x)"
   ]
  },
  {
   "cell_type": "code",
   "execution_count": 15,
   "metadata": {},
   "outputs": [
    {
     "data": {
      "text/plain": [
       "0"
      ]
     },
     "execution_count": 15,
     "metadata": {},
     "output_type": "execute_result"
    }
   ],
   "source": [
    "#Checking the presence of null values in percentage_male column\n",
    "poke_df.isnull().sum()['percentage_male']"
   ]
  },
  {
   "cell_type": "markdown",
   "metadata": {},
   "source": [
    "### Filling the missing weight values"
   ]
  },
  {
   "cell_type": "code",
   "execution_count": 16,
   "metadata": {},
   "outputs": [
    {
     "data": {
      "text/plain": [
       "type1\n",
       "bug          33.083333\n",
       "dark         69.096552\n",
       "dragon      107.125926\n",
       "electric     37.944737\n",
       "fairy        23.555556\n",
       "fighting     58.675000\n",
       "fire         66.096000\n",
       "flying       52.000000\n",
       "ghost        69.570370\n",
       "grass        33.255844\n",
       "ground      150.044444\n",
       "ice         103.260870\n",
       "normal       46.158416\n",
       "poison       33.830000\n",
       "psychic      57.328846\n",
       "rock         92.946341\n",
       "steel       188.841667\n",
       "water        51.071930\n",
       "Name: weight_kg, dtype: float64"
      ]
     },
     "execution_count": 16,
     "metadata": {},
     "output_type": "execute_result"
    }
   ],
   "source": [
    "#Finding the average weight per pokemon type\n",
    "mean_weight = poke_df.groupby('type1')['weight_kg'].mean()\n",
    "mean_weight"
   ]
  },
  {
   "cell_type": "code",
   "execution_count": 17,
   "metadata": {},
   "outputs": [
    {
     "data": {
      "text/plain": [
       "33.08333333333334"
      ]
     },
     "execution_count": 17,
     "metadata": {},
     "output_type": "execute_result"
    }
   ],
   "source": [
    "mean_weight['bug']"
   ]
  },
  {
   "cell_type": "code",
   "execution_count": 18,
   "metadata": {},
   "outputs": [],
   "source": [
    "def avg_weight(type, weight):\n",
    "    if (np.isnan(weight)):\n",
    "        return mean_weight[type]\n",
    "    else:\n",
    "        return weight"
   ]
  },
  {
   "cell_type": "code",
   "execution_count": 19,
   "metadata": {},
   "outputs": [],
   "source": [
    "#Filling the missing values with average weight according to that pokemon's type\n",
    "poke_df['weight_kg']= poke_df.apply(lambda x: avg_weight(x.type1, x.weight_kg), axis=1)"
   ]
  },
  {
   "cell_type": "code",
   "execution_count": 20,
   "metadata": {},
   "outputs": [
    {
     "data": {
      "text/plain": [
       "0"
      ]
     },
     "execution_count": 20,
     "metadata": {},
     "output_type": "execute_result"
    }
   ],
   "source": [
    "#Checking null values in weight_kg column\n",
    "poke_df.isnull().sum()['weight_kg']"
   ]
  },
  {
   "cell_type": "markdown",
   "metadata": {},
   "source": [
    "### Dropping the type2 column"
   ]
  },
  {
   "cell_type": "code",
   "execution_count": 21,
   "metadata": {},
   "outputs": [],
   "source": [
    "#Since there is a large number of type2 data missing, we will drop it. As we have the type1 column, dropping the type2 column won't make a big differnce\n",
    "poke_df.drop('type2', axis=1, inplace=True)"
   ]
  },
  {
   "cell_type": "code",
   "execution_count": 22,
   "metadata": {},
   "outputs": [
    {
     "data": {
      "text/plain": [
       "abilities            0\n",
       "against_bug          0\n",
       "against_dark         0\n",
       "against_dragon       0\n",
       "against_electric     0\n",
       "against_fairy        0\n",
       "against_fight        0\n",
       "against_fire         0\n",
       "against_flying       0\n",
       "against_ghost        0\n",
       "against_grass        0\n",
       "against_ground       0\n",
       "against_ice          0\n",
       "against_normal       0\n",
       "against_poison       0\n",
       "against_psychic      0\n",
       "against_rock         0\n",
       "against_steel        0\n",
       "against_water        0\n",
       "attack               0\n",
       "base_egg_steps       0\n",
       "base_happiness       0\n",
       "base_total           0\n",
       "capture_rate         0\n",
       "classfication        0\n",
       "defense              0\n",
       "experience_growth    0\n",
       "height_m             0\n",
       "hp                   0\n",
       "japanese_name        0\n",
       "name                 0\n",
       "percentage_male      0\n",
       "pokedex_number       0\n",
       "sp_attack            0\n",
       "sp_defense           0\n",
       "speed                0\n",
       "type1                0\n",
       "weight_kg            0\n",
       "generation           0\n",
       "is_legendary         0\n",
       "dtype: int64"
      ]
     },
     "execution_count": 22,
     "metadata": {},
     "output_type": "execute_result"
    }
   ],
   "source": [
    "#Checking the cleaned dataset\n",
    "poke_df.isnull().sum()"
   ]
  },
  {
   "cell_type": "markdown",
   "metadata": {},
   "source": [
    "# OUR DATA IS NOW CLEAN"
   ]
  },
  {
   "cell_type": "code",
   "execution_count": 24,
   "metadata": {},
   "outputs": [
    {
     "data": {
      "text/plain": [
       "<matplotlib.axes._subplots.AxesSubplot at 0x293d2e79cc8>"
      ]
     },
     "execution_count": 24,
     "metadata": {},
     "output_type": "execute_result"
    },
    {
     "data": {
      "image/png": "[encoded data removed]",
      "text/plain": [
       "<Figure size 864x720 with 2 Axes>"
      ]
     },
     "metadata": {
      "needs_background": "light"
     },
     "output_type": "display_data"
    }
   ],
   "source": [
    "fig=plt.figure(figsize=(12,10))\n",
    "sns.heatmap(poke_df.isnull(),yticklabels=False,cmap='viridis')"
   ]
  },
  {
   "cell_type": "markdown",
   "metadata": {},
   "source": [
    "## EXPOLATORY  DATA   ANALYSIS"
   ]
  },
  {
   "cell_type": "code",
   "execution_count": 26,
   "metadata": {},
   "outputs": [
    {
     "data": {
      "text/plain": [
       "<matplotlib.axes._subplots.AxesSubplot at 0x293d2f9cd08>"
      ]
     },
     "execution_count": 26,
     "metadata": {},
     "output_type": "execute_result"
    },
    {
     "data": {
      "image/png": "[encoded data removed]",
      "text/plain": [
       "<Figure size 1008x1008 with 2 Axes>"
      ]
     },
     "metadata": {
      "needs_background": "light"
     },
     "output_type": "display_data"
    }
   ],
   "source": [
    "fig=plt.figure(figsize=(14,14))\n",
    "sns.heatmap(poke_df.corr(),cmap='coolwarm',annot=False)\n"
   ]
  },
  {
   "cell_type": "markdown",
   "metadata": {},
   "source": [
    "#### How does height and weight of a Pokemon correlate with its various base stats?"
   ]
  },
  {
   "cell_type": "code",
   "execution_count": 27,
   "metadata": {},
   "outputs": [
    {
     "data": {
      "text/html": [
       "<div>\n",
       "<style scoped>\n",
       "    .dataframe tbody tr th:only-of-type {\n",
       "        vertical-align: middle;\n",
       "    }\n",
       "\n",
       "    .dataframe tbody tr th {\n",
       "        vertical-align: top;\n",
       "    }\n",
       "\n",
       "    .dataframe thead th {\n",
       "        text-align: right;\n",
       "    }\n",
       "</style>\n",
       "<table border=\"1\" class=\"dataframe\">\n",
       "  <thead>\n",
       "    <tr style=\"text-align: right;\">\n",
       "      <th></th>\n",
       "      <th>height_m</th>\n",
       "      <th>weight_kg</th>\n",
       "    </tr>\n",
       "  </thead>\n",
       "  <tbody>\n",
       "    <tr>\n",
       "      <th>against_bug</th>\n",
       "      <td>-0.061089</td>\n",
       "      <td>-0.032426</td>\n",
       "    </tr>\n",
       "    <tr>\n",
       "      <th>against_dark</th>\n",
       "      <td>0.017138</td>\n",
       "      <td>0.035865</td>\n",
       "    </tr>\n",
       "    <tr>\n",
       "      <th>against_dragon</th>\n",
       "      <td>0.164451</td>\n",
       "      <td>0.126091</td>\n",
       "    </tr>\n",
       "    <tr>\n",
       "      <th>against_electric</th>\n",
       "      <td>0.000997</td>\n",
       "      <td>-0.110712</td>\n",
       "    </tr>\n",
       "    <tr>\n",
       "      <th>against_fairy</th>\n",
       "      <td>0.114907</td>\n",
       "      <td>0.097847</td>\n",
       "    </tr>\n",
       "    <tr>\n",
       "      <th>against_fight</th>\n",
       "      <td>0.058836</td>\n",
       "      <td>0.160718</td>\n",
       "    </tr>\n",
       "    <tr>\n",
       "      <th>against_fire</th>\n",
       "      <td>-0.086357</td>\n",
       "      <td>-0.046338</td>\n",
       "    </tr>\n",
       "    <tr>\n",
       "      <th>against_flying</th>\n",
       "      <td>-0.073466</td>\n",
       "      <td>-0.128664</td>\n",
       "    </tr>\n",
       "    <tr>\n",
       "      <th>against_ghost</th>\n",
       "      <td>0.031694</td>\n",
       "      <td>0.046942</td>\n",
       "    </tr>\n",
       "    <tr>\n",
       "      <th>against_grass</th>\n",
       "      <td>0.033080</td>\n",
       "      <td>0.059733</td>\n",
       "    </tr>\n",
       "    <tr>\n",
       "      <th>against_ground</th>\n",
       "      <td>-0.003275</td>\n",
       "      <td>0.108444</td>\n",
       "    </tr>\n",
       "    <tr>\n",
       "      <th>against_ice</th>\n",
       "      <td>0.069709</td>\n",
       "      <td>0.023752</td>\n",
       "    </tr>\n",
       "    <tr>\n",
       "      <th>against_normal</th>\n",
       "      <td>-0.074612</td>\n",
       "      <td>-0.134133</td>\n",
       "    </tr>\n",
       "    <tr>\n",
       "      <th>against_poison</th>\n",
       "      <td>-0.126556</td>\n",
       "      <td>-0.207627</td>\n",
       "    </tr>\n",
       "    <tr>\n",
       "      <th>against_psychic</th>\n",
       "      <td>-0.021304</td>\n",
       "      <td>-0.088336</td>\n",
       "    </tr>\n",
       "    <tr>\n",
       "      <th>against_rock</th>\n",
       "      <td>-0.036600</td>\n",
       "      <td>-0.117532</td>\n",
       "    </tr>\n",
       "    <tr>\n",
       "      <th>against_steel</th>\n",
       "      <td>-0.027317</td>\n",
       "      <td>0.019143</td>\n",
       "    </tr>\n",
       "    <tr>\n",
       "      <th>against_water</th>\n",
       "      <td>0.039178</td>\n",
       "      <td>0.128078</td>\n",
       "    </tr>\n",
       "    <tr>\n",
       "      <th>attack</th>\n",
       "      <td>0.419098</td>\n",
       "      <td>0.378631</td>\n",
       "    </tr>\n",
       "    <tr>\n",
       "      <th>base_egg_steps</th>\n",
       "      <td>0.376916</td>\n",
       "      <td>0.435909</td>\n",
       "    </tr>\n",
       "    <tr>\n",
       "      <th>base_happiness</th>\n",
       "      <td>-0.342481</td>\n",
       "      <td>-0.402707</td>\n",
       "    </tr>\n",
       "    <tr>\n",
       "      <th>base_total</th>\n",
       "      <td>0.528701</td>\n",
       "      <td>0.449731</td>\n",
       "    </tr>\n",
       "    <tr>\n",
       "      <th>defense</th>\n",
       "      <td>0.359315</td>\n",
       "      <td>0.421979</td>\n",
       "    </tr>\n",
       "    <tr>\n",
       "      <th>experience_growth</th>\n",
       "      <td>0.244636</td>\n",
       "      <td>0.242978</td>\n",
       "    </tr>\n",
       "    <tr>\n",
       "      <th>height_m</th>\n",
       "      <td>1.000000</td>\n",
       "      <td>0.626094</td>\n",
       "    </tr>\n",
       "    <tr>\n",
       "      <th>hp</th>\n",
       "      <td>0.472220</td>\n",
       "      <td>0.416959</td>\n",
       "    </tr>\n",
       "    <tr>\n",
       "      <th>percentage_male</th>\n",
       "      <td>-0.145899</td>\n",
       "      <td>-0.230117</td>\n",
       "    </tr>\n",
       "    <tr>\n",
       "      <th>pokedex_number</th>\n",
       "      <td>0.007868</td>\n",
       "      <td>0.113607</td>\n",
       "    </tr>\n",
       "    <tr>\n",
       "      <th>sp_attack</th>\n",
       "      <td>0.344484</td>\n",
       "      <td>0.233214</td>\n",
       "    </tr>\n",
       "    <tr>\n",
       "      <th>sp_defense</th>\n",
       "      <td>0.324026</td>\n",
       "      <td>0.299618</td>\n",
       "    </tr>\n",
       "    <tr>\n",
       "      <th>speed</th>\n",
       "      <td>0.198577</td>\n",
       "      <td>0.050185</td>\n",
       "    </tr>\n",
       "    <tr>\n",
       "      <th>weight_kg</th>\n",
       "      <td>0.626094</td>\n",
       "      <td>1.000000</td>\n",
       "    </tr>\n",
       "    <tr>\n",
       "      <th>generation</th>\n",
       "      <td>-0.025292</td>\n",
       "      <td>0.077842</td>\n",
       "    </tr>\n",
       "    <tr>\n",
       "      <th>is_legendary</th>\n",
       "      <td>0.319051</td>\n",
       "      <td>0.387403</td>\n",
       "    </tr>\n",
       "  </tbody>\n",
       "</table>\n",
       "</div>"
      ],
      "text/plain": [
       "                   height_m  weight_kg\n",
       "against_bug       -0.061089  -0.032426\n",
       "against_dark       0.017138   0.035865\n",
       "against_dragon     0.164451   0.126091\n",
       "against_electric   0.000997  -0.110712\n",
       "against_fairy      0.114907   0.097847\n",
       "against_fight      0.058836   0.160718\n",
       "against_fire      -0.086357  -0.046338\n",
       "against_flying    -0.073466  -0.128664\n",
       "against_ghost      0.031694   0.046942\n",
       "against_grass      0.033080   0.059733\n",
       "against_ground    -0.003275   0.108444\n",
       "against_ice        0.069709   0.023752\n",
       "against_normal    -0.074612  -0.134133\n",
       "against_poison    -0.126556  -0.207627\n",
       "against_psychic   -0.021304  -0.088336\n",
       "against_rock      -0.036600  -0.117532\n",
       "against_steel     -0.027317   0.019143\n",
       "against_water      0.039178   0.128078\n",
       "attack             0.419098   0.378631\n",
       "base_egg_steps     0.376916   0.435909\n",
       "base_happiness    -0.342481  -0.402707\n",
       "base_total         0.528701   0.449731\n",
       "defense            0.359315   0.421979\n",
       "experience_growth  0.244636   0.242978\n",
       "height_m           1.000000   0.626094\n",
       "hp                 0.472220   0.416959\n",
       "percentage_male   -0.145899  -0.230117\n",
       "pokedex_number     0.007868   0.113607\n",
       "sp_attack          0.344484   0.233214\n",
       "sp_defense         0.324026   0.299618\n",
       "speed              0.198577   0.050185\n",
       "weight_kg          0.626094   1.000000\n",
       "generation        -0.025292   0.077842\n",
       "is_legendary       0.319051   0.387403"
      ]
     },
     "execution_count": 27,
     "metadata": {},
     "output_type": "execute_result"
    }
   ],
   "source": [
    "poke_df.corr()[['height_m', 'weight_kg']]"
   ]
  },
  {
   "cell_type": "code",
   "execution_count": 28,
   "metadata": {},
   "outputs": [
    {
     "data": {
      "text/plain": [
       "<matplotlib.axes._subplots.AxesSubplot at 0x293d32a3c48>"
      ]
     },
     "execution_count": 28,
     "metadata": {},
     "output_type": "execute_result"
    },
    {
     "data": {
      "image/png": "[encoded data removed]",
      "text/plain": [
       "<Figure size 1080x576 with 2 Axes>"
      ]
     },
     "metadata": {
      "needs_background": "light"
     },
     "output_type": "display_data"
    }
   ],
   "source": [
    "#Heatmap of the most relevant features with respect to the height and weight of the pokemon\n",
    "plt.figure(figsize=(15,8))\n",
    "sns.heatmap(poke_df.corr()[['height_m', 'weight_kg']].iloc[18:].drop('pokedex_number'), annot=True, cmap='coolwarm')"
   ]
  },
  {
   "cell_type": "markdown",
   "metadata": {},
   "source": [
    "#### What factors influence the Experience Growth and Egg Steps? Are these quantities correlated?"
   ]
  },
  {
   "cell_type": "code",
   "execution_count": 29,
   "metadata": {},
   "outputs": [
    {
     "data": {
      "text/html": [
       "<div>\n",
       "<style scoped>\n",
       "    .dataframe tbody tr th:only-of-type {\n",
       "        vertical-align: middle;\n",
       "    }\n",
       "\n",
       "    .dataframe tbody tr th {\n",
       "        vertical-align: top;\n",
       "    }\n",
       "\n",
       "    .dataframe thead th {\n",
       "        text-align: right;\n",
       "    }\n",
       "</style>\n",
       "<table border=\"1\" class=\"dataframe\">\n",
       "  <thead>\n",
       "    <tr style=\"text-align: right;\">\n",
       "      <th></th>\n",
       "      <th>experience_growth</th>\n",
       "      <th>base_egg_steps</th>\n",
       "    </tr>\n",
       "  </thead>\n",
       "  <tbody>\n",
       "    <tr>\n",
       "      <th>attack</th>\n",
       "      <td>0.241087</td>\n",
       "      <td>0.331088</td>\n",
       "    </tr>\n",
       "    <tr>\n",
       "      <th>base_egg_steps</th>\n",
       "      <td>0.373837</td>\n",
       "      <td>1.000000</td>\n",
       "    </tr>\n",
       "    <tr>\n",
       "      <th>base_happiness</th>\n",
       "      <td>-0.295348</td>\n",
       "      <td>-0.524551</td>\n",
       "    </tr>\n",
       "    <tr>\n",
       "      <th>base_total</th>\n",
       "      <td>0.256930</td>\n",
       "      <td>0.496466</td>\n",
       "    </tr>\n",
       "    <tr>\n",
       "      <th>defense</th>\n",
       "      <td>0.129698</td>\n",
       "      <td>0.265230</td>\n",
       "    </tr>\n",
       "    <tr>\n",
       "      <th>experience_growth</th>\n",
       "      <td>1.000000</td>\n",
       "      <td>0.373837</td>\n",
       "    </tr>\n",
       "    <tr>\n",
       "      <th>height_m</th>\n",
       "      <td>0.244636</td>\n",
       "      <td>0.376916</td>\n",
       "    </tr>\n",
       "    <tr>\n",
       "      <th>hp</th>\n",
       "      <td>0.214068</td>\n",
       "      <td>0.359218</td>\n",
       "    </tr>\n",
       "    <tr>\n",
       "      <th>percentage_male</th>\n",
       "      <td>-0.172634</td>\n",
       "      <td>-0.435959</td>\n",
       "    </tr>\n",
       "    <tr>\n",
       "      <th>pokedex_number</th>\n",
       "      <td>0.084687</td>\n",
       "      <td>0.197278</td>\n",
       "    </tr>\n",
       "    <tr>\n",
       "      <th>sp_attack</th>\n",
       "      <td>0.201603</td>\n",
       "      <td>0.404477</td>\n",
       "    </tr>\n",
       "    <tr>\n",
       "      <th>sp_defense</th>\n",
       "      <td>0.088806</td>\n",
       "      <td>0.335404</td>\n",
       "    </tr>\n",
       "    <tr>\n",
       "      <th>speed</th>\n",
       "      <td>0.144946</td>\n",
       "      <td>0.289447</td>\n",
       "    </tr>\n",
       "    <tr>\n",
       "      <th>weight_kg</th>\n",
       "      <td>0.242978</td>\n",
       "      <td>0.435909</td>\n",
       "    </tr>\n",
       "    <tr>\n",
       "      <th>generation</th>\n",
       "      <td>0.052530</td>\n",
       "      <td>0.128941</td>\n",
       "    </tr>\n",
       "    <tr>\n",
       "      <th>is_legendary</th>\n",
       "      <td>0.361038</td>\n",
       "      <td>0.873488</td>\n",
       "    </tr>\n",
       "  </tbody>\n",
       "</table>\n",
       "</div>"
      ],
      "text/plain": [
       "                   experience_growth  base_egg_steps\n",
       "attack                      0.241087        0.331088\n",
       "base_egg_steps              0.373837        1.000000\n",
       "base_happiness             -0.295348       -0.524551\n",
       "base_total                  0.256930        0.496466\n",
       "defense                     0.129698        0.265230\n",
       "experience_growth           1.000000        0.373837\n",
       "height_m                    0.244636        0.376916\n",
       "hp                          0.214068        0.359218\n",
       "percentage_male            -0.172634       -0.435959\n",
       "pokedex_number              0.084687        0.197278\n",
       "sp_attack                   0.201603        0.404477\n",
       "sp_defense                  0.088806        0.335404\n",
       "speed                       0.144946        0.289447\n",
       "weight_kg                   0.242978        0.435909\n",
       "generation                  0.052530        0.128941\n",
       "is_legendary                0.361038        0.873488"
      ]
     },
     "execution_count": 29,
     "metadata": {},
     "output_type": "execute_result"
    }
   ],
   "source": [
    "poke_df.corr()[['experience_growth', 'base_egg_steps']].iloc[18:]"
   ]
  },
  {
   "cell_type": "markdown",
   "metadata": {},
   "source": [
    "# Heatmap of the most relevant features with respect to experience growth and base egg steps"
   ]
  },
  {
   "cell_type": "code",
   "execution_count": 30,
   "metadata": {},
   "outputs": [
    {
     "data": {
      "text/plain": [
       "<matplotlib.axes._subplots.AxesSubplot at 0x293d55fa688>"
      ]
     },
     "execution_count": 30,
     "metadata": {},
     "output_type": "execute_result"
    },
    {
     "data": {
      "image/png": "[encoded data removed]",
      "text/plain": [
       "<Figure size 1080x576 with 2 Axes>"
      ]
     },
     "metadata": {
      "needs_background": "light"
     },
     "output_type": "display_data"
    }
   ],
   "source": [
    "\n",
    "plt.figure(figsize=(15,8))\n",
    "sns.heatmap(poke_df.corr()[['experience_growth', 'base_egg_steps']].iloc[18:], annot=True, cmap='coolwarm')"
   ]
  },
  {
   "cell_type": "markdown",
   "metadata": {},
   "source": [
    "### Which type is the strongest overall? Which is the weakest?"
   ]
  },
  {
   "cell_type": "code",
   "execution_count": 32,
   "metadata": {},
   "outputs": [
    {
     "data": {
      "text/plain": [
       "<matplotlib.axes._subplots.AxesSubplot at 0x293d5a05f88>"
      ]
     },
     "execution_count": 32,
     "metadata": {},
     "output_type": "execute_result"
    },
    {
     "data": {
      "image/png": "[encoded data removed]",
      "text/plain": [
       "<Figure size 720x576 with 1 Axes>"
      ]
     },
     "metadata": {
      "needs_background": "light"
     },
     "output_type": "display_data"
    }
   ],
   "source": [
    "#Let's explore the type of pokemons\n",
    "poke_df.groupby('type1')['type1'].count().sort_values().plot(kind='bar', figsize=(10,8))"
   ]
  },
  {
   "cell_type": "code",
   "execution_count": 33,
   "metadata": {},
   "outputs": [
    {
     "data": {
      "text/plain": [
       "type1\n",
       "bug         380.430556\n",
       "poison      399.562500\n",
       "normal      401.295238\n",
       "grass       412.576923\n",
       "fighting    414.821429\n",
       "ground      426.093750\n",
       "water       426.789474\n",
       "fairy       427.166667\n",
       "ice         433.608696\n",
       "ghost       434.703704\n",
       "electric    436.153846\n",
       "rock        447.266667\n",
       "dark        449.758621\n",
       "fire        450.634615\n",
       "flying      453.333333\n",
       "psychic     461.264151\n",
       "steel       491.583333\n",
       "dragon      522.777778\n",
       "Name: base_total, dtype: float64"
      ]
     },
     "execution_count": 33,
     "metadata": {},
     "output_type": "execute_result"
    }
   ],
   "source": [
    "#To determine the strength of a pokemon, we must compare the base_total column\n",
    "base_type = poke_df.groupby('type1')['base_total'].mean().sort_values()\n",
    "base_type"
   ]
  },
  {
   "cell_type": "code",
   "execution_count": 34,
   "metadata": {},
   "outputs": [
    {
     "data": {
      "text/plain": [
       "<matplotlib.axes._subplots.AxesSubplot at 0x293d5a9da48>"
      ]
     },
     "execution_count": 34,
     "metadata": {},
     "output_type": "execute_result"
    },
    {
     "data": {
      "image/png": "[encoded data removed]",
      "text/plain": [
       "<Figure size 720x576 with 1 Axes>"
      ]
     },
     "metadata": {
      "needs_background": "light"
     },
     "output_type": "display_data"
    }
   ],
   "source": [
    "plt.figure(figsize=(10,8))\n",
    "sns.set_style('whitegrid')\n",
    "plt.ylabel('Base Total')\n",
    "plt.title('Strength per type') \n",
    "base_type.plot(kind='bar')"
   ]
  },
  {
   "cell_type": "markdown",
   "metadata": {},
   "source": [
    "### Which type is the most likely to be a legendary Pokemon?"
   ]
  },
  {
   "cell_type": "code",
   "execution_count": 35,
   "metadata": {},
   "outputs": [
    {
     "data": {
      "text/plain": [
       "<matplotlib.axes._subplots.AxesSubplot at 0x293d5c98408>"
      ]
     },
     "execution_count": 35,
     "metadata": {},
     "output_type": "execute_result"
    },
    {
     "data": {
      "image/png": "[encoded data removed]",
      "text/plain": [
       "<Figure size 504x504 with 1 Axes>"
      ]
     },
     "metadata": {},
     "output_type": "display_data"
    }
   ],
   "source": [
    "#Let's explore the legendary pokemons a bit\n",
    "poke_df['is_legendary'].value_counts().plot(kind='pie',\n",
    "                                            autopct='%1.1f%%',\n",
    "                                            labels= ['Normal','Legendary'],\n",
    "                                            shadow=True,\n",
    "                                            colors=['orange','blue'],\n",
    "                                            figsize=(7,7),\n",
    "                                            startangle=90,\n",
    "                                            explode=[0,0.1])"
   ]
  },
  {
   "cell_type": "code",
   "execution_count": 36,
   "metadata": {},
   "outputs": [
    {
     "data": {
      "text/plain": [
       "<matplotlib.axes._subplots.AxesSubplot at 0x293d5b7a288>"
      ]
     },
     "execution_count": 36,
     "metadata": {},
     "output_type": "execute_result"
    },
    {
     "data": {
      "image/png": "[encoded data removed]",
      "text/plain": [
       "<Figure size 720x576 with 1 Axes>"
      ]
     },
     "metadata": {},
     "output_type": "display_data"
    }
   ],
   "source": [
    "poke_df[poke_df['is_legendary']==1].groupby('generation')['is_legendary'].count().sort_values().plot(kind='bar', figsize=(10,8))"
   ]
  },
  {
   "cell_type": "code",
   "execution_count": 37,
   "metadata": {},
   "outputs": [
    {
     "data": {
      "text/plain": [
       "<matplotlib.axes._subplots.AxesSubplot at 0x293d5bfab48>"
      ]
     },
     "execution_count": 37,
     "metadata": {},
     "output_type": "execute_result"
    },
    {
     "data": {
      "image/png": "[encoded data removed]",
      "text/plain": [
       "<Figure size 720x576 with 1 Axes>"
      ]
     },
     "metadata": {},
     "output_type": "display_data"
    }
   ],
   "source": [
    "poke_df[poke_df['is_legendary']==1].groupby('type1')['is_legendary'].count().sort_values().plot(kind='bar', figsize=(10,8))"
   ]
  },
  {
   "cell_type": "markdown",
   "metadata": {},
   "source": [
    "# THE LEGENDARY POKEMON CLASSIFIER"
   ]
  },
  {
   "cell_type": "code",
   "execution_count": 38,
   "metadata": {},
   "outputs": [
    {
     "data": {
      "text/plain": [
       "Index(['abilities', 'against_bug', 'against_dark', 'against_dragon',\n",
       "       'against_electric', 'against_fairy', 'against_fight', 'against_fire',\n",
       "       'against_flying', 'against_ghost', 'against_grass', 'against_ground',\n",
       "       'against_ice', 'against_normal', 'against_poison', 'against_psychic',\n",
       "       'against_rock', 'against_steel', 'against_water', 'attack',\n",
       "       'base_egg_steps', 'base_happiness', 'base_total', 'capture_rate',\n",
       "       'classfication', 'defense', 'experience_growth', 'height_m', 'hp',\n",
       "       'japanese_name', 'name', 'percentage_male', 'pokedex_number',\n",
       "       'sp_attack', 'sp_defense', 'speed', 'type1', 'weight_kg', 'generation',\n",
       "       'is_legendary'],\n",
       "      dtype='object')"
      ]
     },
     "execution_count": 38,
     "metadata": {},
     "output_type": "execute_result"
    }
   ],
   "source": [
    "#First we need to prepare some columns to feed into the classifier\n",
    "poke_df.columns"
   ]
  },
  {
   "cell_type": "code",
   "execution_count": 39,
   "metadata": {},
   "outputs": [
    {
     "name": "stdout",
     "output_type": "stream",
     "text": [
      "<class 'pandas.core.frame.DataFrame'>\n",
      "RangeIndex: 801 entries, 0 to 800\n",
      "Data columns (total 40 columns):\n",
      " #   Column             Non-Null Count  Dtype  \n",
      "---  ------             --------------  -----  \n",
      " 0   abilities          801 non-null    object \n",
      " 1   against_bug        801 non-null    float64\n",
      " 2   against_dark       801 non-null    float64\n",
      " 3   against_dragon     801 non-null    float64\n",
      " 4   against_electric   801 non-null    float64\n",
      " 5   against_fairy      801 non-null    float64\n",
      " 6   against_fight      801 non-null    float64\n",
      " 7   against_fire       801 non-null    float64\n",
      " 8   against_flying     801 non-null    float64\n",
      " 9   against_ghost      801 non-null    float64\n",
      " 10  against_grass      801 non-null    float64\n",
      " 11  against_ground     801 non-null    float64\n",
      " 12  against_ice        801 non-null    float64\n",
      " 13  against_normal     801 non-null    float64\n",
      " 14  against_poison     801 non-null    float64\n",
      " 15  against_psychic    801 non-null    float64\n",
      " 16  against_rock       801 non-null    float64\n",
      " 17  against_steel      801 non-null    float64\n",
      " 18  against_water      801 non-null    float64\n",
      " 19  attack             801 non-null    int64  \n",
      " 20  base_egg_steps     801 non-null    int64  \n",
      " 21  base_happiness     801 non-null    int64  \n",
      " 22  base_total         801 non-null    int64  \n",
      " 23  capture_rate       801 non-null    object \n",
      " 24  classfication      801 non-null    object \n",
      " 25  defense            801 non-null    int64  \n",
      " 26  experience_growth  801 non-null    int64  \n",
      " 27  height_m           801 non-null    float64\n",
      " 28  hp                 801 non-null    int64  \n",
      " 29  japanese_name      801 non-null    object \n",
      " 30  name               801 non-null    object \n",
      " 31  percentage_male    801 non-null    float64\n",
      " 32  pokedex_number     801 non-null    int64  \n",
      " 33  sp_attack          801 non-null    int64  \n",
      " 34  sp_defense         801 non-null    int64  \n",
      " 35  speed              801 non-null    int64  \n",
      " 36  type1              801 non-null    object \n",
      " 37  weight_kg          801 non-null    float64\n",
      " 38  generation         801 non-null    int64  \n",
      " 39  is_legendary       801 non-null    int64  \n",
      "dtypes: float64(21), int64(13), object(6)\n",
      "memory usage: 250.4+ KB\n"
     ]
    }
   ],
   "source": [
    "poke_df.info()"
   ]
  },
  {
   "cell_type": "code",
   "execution_count": 40,
   "metadata": {},
   "outputs": [
    {
     "data": {
      "text/html": [
       "<div>\n",
       "<style scoped>\n",
       "    .dataframe tbody tr th:only-of-type {\n",
       "        vertical-align: middle;\n",
       "    }\n",
       "\n",
       "    .dataframe tbody tr th {\n",
       "        vertical-align: top;\n",
       "    }\n",
       "\n",
       "    .dataframe thead th {\n",
       "        text-align: right;\n",
       "    }\n",
       "</style>\n",
       "<table border=\"1\" class=\"dataframe\">\n",
       "  <thead>\n",
       "    <tr style=\"text-align: right;\">\n",
       "      <th></th>\n",
       "      <th>abilities</th>\n",
       "      <th>against_bug</th>\n",
       "      <th>against_dark</th>\n",
       "      <th>against_dragon</th>\n",
       "      <th>against_electric</th>\n",
       "      <th>against_fairy</th>\n",
       "      <th>against_fight</th>\n",
       "      <th>against_fire</th>\n",
       "      <th>against_flying</th>\n",
       "      <th>against_ghost</th>\n",
       "      <th>...</th>\n",
       "      <th>ghost</th>\n",
       "      <th>grass</th>\n",
       "      <th>ground</th>\n",
       "      <th>ice</th>\n",
       "      <th>normal</th>\n",
       "      <th>poison</th>\n",
       "      <th>psychic</th>\n",
       "      <th>rock</th>\n",
       "      <th>steel</th>\n",
       "      <th>water</th>\n",
       "    </tr>\n",
       "  </thead>\n",
       "  <tbody>\n",
       "    <tr>\n",
       "      <th>0</th>\n",
       "      <td>['Overgrow', 'Chlorophyll']</td>\n",
       "      <td>1.0</td>\n",
       "      <td>1.0</td>\n",
       "      <td>1.0</td>\n",
       "      <td>0.5</td>\n",
       "      <td>0.5</td>\n",
       "      <td>0.5</td>\n",
       "      <td>2.0</td>\n",
       "      <td>2.0</td>\n",
       "      <td>1.0</td>\n",
       "      <td>...</td>\n",
       "      <td>0</td>\n",
       "      <td>1</td>\n",
       "      <td>0</td>\n",
       "      <td>0</td>\n",
       "      <td>0</td>\n",
       "      <td>0</td>\n",
       "      <td>0</td>\n",
       "      <td>0</td>\n",
       "      <td>0</td>\n",
       "      <td>0</td>\n",
       "    </tr>\n",
       "    <tr>\n",
       "      <th>1</th>\n",
       "      <td>['Overgrow', 'Chlorophyll']</td>\n",
       "      <td>1.0</td>\n",
       "      <td>1.0</td>\n",
       "      <td>1.0</td>\n",
       "      <td>0.5</td>\n",
       "      <td>0.5</td>\n",
       "      <td>0.5</td>\n",
       "      <td>2.0</td>\n",
       "      <td>2.0</td>\n",
       "      <td>1.0</td>\n",
       "      <td>...</td>\n",
       "      <td>0</td>\n",
       "      <td>1</td>\n",
       "      <td>0</td>\n",
       "      <td>0</td>\n",
       "      <td>0</td>\n",
       "      <td>0</td>\n",
       "      <td>0</td>\n",
       "      <td>0</td>\n",
       "      <td>0</td>\n",
       "      <td>0</td>\n",
       "    </tr>\n",
       "    <tr>\n",
       "      <th>2</th>\n",
       "      <td>['Overgrow', 'Chlorophyll']</td>\n",
       "      <td>1.0</td>\n",
       "      <td>1.0</td>\n",
       "      <td>1.0</td>\n",
       "      <td>0.5</td>\n",
       "      <td>0.5</td>\n",
       "      <td>0.5</td>\n",
       "      <td>2.0</td>\n",
       "      <td>2.0</td>\n",
       "      <td>1.0</td>\n",
       "      <td>...</td>\n",
       "      <td>0</td>\n",
       "      <td>1</td>\n",
       "      <td>0</td>\n",
       "      <td>0</td>\n",
       "      <td>0</td>\n",
       "      <td>0</td>\n",
       "      <td>0</td>\n",
       "      <td>0</td>\n",
       "      <td>0</td>\n",
       "      <td>0</td>\n",
       "    </tr>\n",
       "    <tr>\n",
       "      <th>3</th>\n",
       "      <td>['Blaze', 'Solar Power']</td>\n",
       "      <td>0.5</td>\n",
       "      <td>1.0</td>\n",
       "      <td>1.0</td>\n",
       "      <td>1.0</td>\n",
       "      <td>0.5</td>\n",
       "      <td>1.0</td>\n",
       "      <td>0.5</td>\n",
       "      <td>1.0</td>\n",
       "      <td>1.0</td>\n",
       "      <td>...</td>\n",
       "      <td>0</td>\n",
       "      <td>0</td>\n",
       "      <td>0</td>\n",
       "      <td>0</td>\n",
       "      <td>0</td>\n",
       "      <td>0</td>\n",
       "      <td>0</td>\n",
       "      <td>0</td>\n",
       "      <td>0</td>\n",
       "      <td>0</td>\n",
       "    </tr>\n",
       "    <tr>\n",
       "      <th>4</th>\n",
       "      <td>['Blaze', 'Solar Power']</td>\n",
       "      <td>0.5</td>\n",
       "      <td>1.0</td>\n",
       "      <td>1.0</td>\n",
       "      <td>1.0</td>\n",
       "      <td>0.5</td>\n",
       "      <td>1.0</td>\n",
       "      <td>0.5</td>\n",
       "      <td>1.0</td>\n",
       "      <td>1.0</td>\n",
       "      <td>...</td>\n",
       "      <td>0</td>\n",
       "      <td>0</td>\n",
       "      <td>0</td>\n",
       "      <td>0</td>\n",
       "      <td>0</td>\n",
       "      <td>0</td>\n",
       "      <td>0</td>\n",
       "      <td>0</td>\n",
       "      <td>0</td>\n",
       "      <td>0</td>\n",
       "    </tr>\n",
       "  </tbody>\n",
       "</table>\n",
       "<p>5 rows × 56 columns</p>\n",
       "</div>"
      ],
      "text/plain": [
       "                     abilities  against_bug  against_dark  against_dragon  \\\n",
       "0  ['Overgrow', 'Chlorophyll']          1.0           1.0             1.0   \n",
       "1  ['Overgrow', 'Chlorophyll']          1.0           1.0             1.0   \n",
       "2  ['Overgrow', 'Chlorophyll']          1.0           1.0             1.0   \n",
       "3     ['Blaze', 'Solar Power']          0.5           1.0             1.0   \n",
       "4     ['Blaze', 'Solar Power']          0.5           1.0             1.0   \n",
       "\n",
       "   against_electric  against_fairy  against_fight  against_fire  \\\n",
       "0               0.5            0.5            0.5           2.0   \n",
       "1               0.5            0.5            0.5           2.0   \n",
       "2               0.5            0.5            0.5           2.0   \n",
       "3               1.0            0.5            1.0           0.5   \n",
       "4               1.0            0.5            1.0           0.5   \n",
       "\n",
       "   against_flying  against_ghost  ...  ghost  grass  ground  ice  normal  \\\n",
       "0             2.0            1.0  ...      0      1       0    0       0   \n",
       "1             2.0            1.0  ...      0      1       0    0       0   \n",
       "2             2.0            1.0  ...      0      1       0    0       0   \n",
       "3             1.0            1.0  ...      0      0       0    0       0   \n",
       "4             1.0            1.0  ...      0      0       0    0       0   \n",
       "\n",
       "   poison  psychic  rock  steel  water  \n",
       "0       0        0     0      0      0  \n",
       "1       0        0     0      0      0  \n",
       "2       0        0     0      0      0  \n",
       "3       0        0     0      0      0  \n",
       "4       0        0     0      0      0  \n",
       "\n",
       "[5 rows x 56 columns]"
      ]
     },
     "execution_count": 40,
     "metadata": {},
     "output_type": "execute_result"
    }
   ],
   "source": [
    "df1 = pd.get_dummies(data=poke_df['type1'], drop_first=True)\n",
    "poke_df.drop('type1', axis=1, inplace=True)\n",
    "poke_df= pd.concat([poke_df,df1], axis=1)\n",
    "poke_df.head()"
   ]
  },
  {
   "cell_type": "code",
   "execution_count": 41,
   "metadata": {},
   "outputs": [],
   "source": [
    "from sklearn.model_selection import train_test_split"
   ]
  },
  {
   "cell_type": "code",
   "execution_count": 42,
   "metadata": {},
   "outputs": [],
   "source": [
    "X= poke_df.drop(['abilities','capture_rate','classfication','is_legendary','name','japanese_name'], axis=1)\n",
    "y= poke_df['is_legendary']"
   ]
  },
  {
   "cell_type": "code",
   "execution_count": 43,
   "metadata": {},
   "outputs": [],
   "source": [
    "X_train, X_test, y_train, y_test = train_test_split(X, y, test_size=0.3, random_state=42)"
   ]
  },
  {
   "cell_type": "code",
   "execution_count": 44,
   "metadata": {},
   "outputs": [],
   "source": [
    "from sklearn.linear_model import LogisticRegression"
   ]
  },
  {
   "cell_type": "code",
   "execution_count": 45,
   "metadata": {},
   "outputs": [],
   "source": [
    "lr = LogisticRegression()"
   ]
  },
  {
   "cell_type": "code",
   "execution_count": 46,
   "metadata": {},
   "outputs": [
    {
     "name": "stderr",
     "output_type": "stream",
     "text": [
      "C:\\Users\\Shivam Shandilya\\anaconda3\\lib\\site-packages\\sklearn\\linear_model\\_logistic.py:940: ConvergenceWarning: lbfgs failed to converge (status=1):\n",
      "STOP: TOTAL NO. of ITERATIONS REACHED LIMIT.\n",
      "\n",
      "Increase the number of iterations (max_iter) or scale the data as shown in:\n",
      "    https://scikit-learn.org/stable/modules/preprocessing.html\n",
      "Please also refer to the documentation for alternative solver options:\n",
      "    https://scikit-learn.org/stable/modules/linear_model.html#logistic-regression\n",
      "  extra_warning_msg=_LOGISTIC_SOLVER_CONVERGENCE_MSG)\n"
     ]
    },
    {
     "data": {
      "text/plain": [
       "LogisticRegression(C=1.0, class_weight=None, dual=False, fit_intercept=True,\n",
       "                   intercept_scaling=1, l1_ratio=None, max_iter=100,\n",
       "                   multi_class='auto', n_jobs=None, penalty='l2',\n",
       "                   random_state=None, solver='lbfgs', tol=0.0001, verbose=0,\n",
       "                   warm_start=False)"
      ]
     },
     "execution_count": 46,
     "metadata": {},
     "output_type": "execute_result"
    }
   ],
   "source": [
    "lr.fit(X_train,y_train)"
   ]
  },
  {
   "cell_type": "code",
   "execution_count": 47,
   "metadata": {},
   "outputs": [],
   "source": [
    "predictions= lr.predict(X_test)"
   ]
  },
  {
   "cell_type": "code",
   "execution_count": 48,
   "metadata": {},
   "outputs": [],
   "source": [
    "from sklearn.metrics import classification_report,confusion_matrix"
   ]
  },
  {
   "cell_type": "code",
   "execution_count": 49,
   "metadata": {},
   "outputs": [
    {
     "name": "stdout",
     "output_type": "stream",
     "text": [
      "Confusion Matrix of the Model\n",
      "\n",
      "\n",
      "[[215   1]\n",
      " [  3  22]]\n",
      "\n",
      "\n",
      "Classification Report of the Model\n",
      "\n",
      "\n",
      "              precision    recall  f1-score   support\n",
      "\n",
      "           0       0.99      1.00      0.99       216\n",
      "           1       0.96      0.88      0.92        25\n",
      "\n",
      "    accuracy                           0.98       241\n",
      "   macro avg       0.97      0.94      0.95       241\n",
      "weighted avg       0.98      0.98      0.98       241\n",
      "\n"
     ]
    }
   ],
   "source": [
    "#Evaluating the model's performance\n",
    "print('Confusion Matrix of the Model')\n",
    "print('\\n')\n",
    "print(confusion_matrix(y_test,predictions))\n",
    "print('\\n')\n",
    "print('Classification Report of the Model')\n",
    "print('\\n')\n",
    "print(classification_report(y_test,predictions))"
   ]
  },
  {
   "cell_type": "markdown",
   "metadata": {},
   "source": [
    "# POKEMON DREAM TEAM"
   ]
  },
  {
   "cell_type": "markdown",
   "metadata": {},
   "source": [
    "DESCRIPTION:-A team of 6 Pokemons that inflicts the most damage while remaining relatively impervious to any other team of 6 Pokemons."
   ]
  },
  {
   "cell_type": "code",
   "execution_count": 51,
   "metadata": {},
   "outputs": [],
   "source": [
    "#We need to reimport the data as we had previously corrupted the original data for fitting into our model\n",
    "poke_df = pd.read_csv('C:/Users/Shivam Shandilya/Desktop/pokemon/pokemon.csv')"
   ]
  },
  {
   "cell_type": "code",
   "execution_count": 52,
   "metadata": {},
   "outputs": [],
   "source": [
    "#We have the base_total column in the dataframe which evaluates the strength of a Pokemon\n",
    "# We can actually form the dream team by grouping the strongest 6 Pokemons irrespective of their type"
   ]
  },
  {
   "cell_type": "code",
   "execution_count": 54,
   "metadata": {},
   "outputs": [
    {
     "data": {
      "text/html": [
       "<div>\n",
       "<style scoped>\n",
       "    .dataframe tbody tr th:only-of-type {\n",
       "        vertical-align: middle;\n",
       "    }\n",
       "\n",
       "    .dataframe tbody tr th {\n",
       "        vertical-align: top;\n",
       "    }\n",
       "\n",
       "    .dataframe thead th {\n",
       "        text-align: right;\n",
       "    }\n",
       "</style>\n",
       "<table border=\"1\" class=\"dataframe\">\n",
       "  <thead>\n",
       "    <tr style=\"text-align: right;\">\n",
       "      <th></th>\n",
       "      <th>name</th>\n",
       "      <th>japanese_name</th>\n",
       "      <th>pokedex_number</th>\n",
       "      <th>type1</th>\n",
       "      <th>base_total</th>\n",
       "      <th>is_legendary</th>\n",
       "    </tr>\n",
       "  </thead>\n",
       "  <tbody>\n",
       "    <tr>\n",
       "      <th>149</th>\n",
       "      <td>Mewtwo</td>\n",
       "      <td>Mewtwoミュウツー</td>\n",
       "      <td>150</td>\n",
       "      <td>psychic</td>\n",
       "      <td>780</td>\n",
       "      <td>1</td>\n",
       "    </tr>\n",
       "    <tr>\n",
       "      <th>383</th>\n",
       "      <td>Rayquaza</td>\n",
       "      <td>Rayquazaレックウザ</td>\n",
       "      <td>384</td>\n",
       "      <td>dragon</td>\n",
       "      <td>780</td>\n",
       "      <td>1</td>\n",
       "    </tr>\n",
       "    <tr>\n",
       "      <th>382</th>\n",
       "      <td>Groudon</td>\n",
       "      <td>Groudonグラードン</td>\n",
       "      <td>383</td>\n",
       "      <td>ground</td>\n",
       "      <td>770</td>\n",
       "      <td>1</td>\n",
       "    </tr>\n",
       "    <tr>\n",
       "      <th>381</th>\n",
       "      <td>Kyogre</td>\n",
       "      <td>Kyogreカイオーガ</td>\n",
       "      <td>382</td>\n",
       "      <td>water</td>\n",
       "      <td>770</td>\n",
       "      <td>1</td>\n",
       "    </tr>\n",
       "    <tr>\n",
       "      <th>492</th>\n",
       "      <td>Arceus</td>\n",
       "      <td>Arceusアルセウス</td>\n",
       "      <td>493</td>\n",
       "      <td>normal</td>\n",
       "      <td>720</td>\n",
       "      <td>1</td>\n",
       "    </tr>\n",
       "    <tr>\n",
       "      <th>717</th>\n",
       "      <td>Zygarde</td>\n",
       "      <td>Zygarde (10% Forme)ジガルデ</td>\n",
       "      <td>718</td>\n",
       "      <td>dragon</td>\n",
       "      <td>708</td>\n",
       "      <td>1</td>\n",
       "    </tr>\n",
       "  </tbody>\n",
       "</table>\n",
       "</div>"
      ],
      "text/plain": [
       "         name            japanese_name  pokedex_number    type1  base_total  \\\n",
       "149    Mewtwo              Mewtwoミュウツー             150  psychic         780   \n",
       "383  Rayquaza            Rayquazaレックウザ             384   dragon         780   \n",
       "382   Groudon             Groudonグラードン             383   ground         770   \n",
       "381    Kyogre              Kyogreカイオーガ             382    water         770   \n",
       "492    Arceus              Arceusアルセウス             493   normal         720   \n",
       "717   Zygarde  Zygarde (10% Forme)ジガルデ             718   dragon         708   \n",
       "\n",
       "     is_legendary  \n",
       "149             1  \n",
       "383             1  \n",
       "382             1  \n",
       "381             1  \n",
       "492             1  \n",
       "717             1  "
      ]
     },
     "execution_count": 54,
     "metadata": {},
     "output_type": "execute_result"
    }
   ],
   "source": [
    "team = poke_df.sort_values(by='base_total', ascending=False).head(6)\n",
    "team[['name','japanese_name','pokedex_number','type1','base_total','is_legendary']]"
   ]
  },
  {
   "cell_type": "markdown",
   "metadata": {},
   "source": [
    "THIS IS OUR POKEMON DREAM TEAM."
   ]
  },
  {
   "cell_type": "markdown",
   "metadata": {},
   "source": [
    "# WORK DONE BY TEAM:- V FOR VENDETTA."
   ]
  }
 ],
 "metadata": {
  "kernelspec": {
   "display_name": "Python 3",
   "language": "python",
   "name": "python3"
  },
  "language_info": {
   "codemirror_mode": {
    "name": "ipython",
    "version": 3
   },
   "file_extension": ".py",
   "mimetype": "text/x-python",
   "name": "python",
   "nbconvert_exporter": "python",
   "pygments_lexer": "ipython3",
   "version": "3.7.6"
  }
 },
 "nbformat": 4,
 "nbformat_minor": 4
}
